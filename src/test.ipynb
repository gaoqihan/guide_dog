{
 "cells": [
  {
   "cell_type": "code",
   "execution_count": 17,
   "metadata": {},
   "outputs": [],
   "source": [
    "import sys\n",
    "import os\n",
    "\n",
    "\n",
    "from include.gpt_caller import GPTCaller\n"
   ]
  },
  {
   "cell_type": "code",
   "execution_count": 24,
   "metadata": {},
   "outputs": [
    {
     "name": "stdout",
     "output_type": "stream",
     "text": [
      "You are an AI assistant, your task is to help me extract key word and key task from a long instruction. I will give you a few examples first. VERY IMPORTANT:the keyword MUST be a simple non-abstract object, it must be well-defined and common (e.g. car, mouse, apple, keyboard, traffic light)!!! It MUST be easy to detect with computer vision algorithms. You can infer what the keyword is based on the intention of the instruction. You must respond with in format of {\"keyword\":[list of key word],\"key instruction\":[list of key instruction]}\n",
      "\n",
      "Examples:\n",
      "1. Instruction: can you help me find my phone?\n",
      "Response: {\"keyword\":[\"phone\"],\"key instruction\":[\"find the phone\"]}\n",
      "\n",
      "2. Instruction: I am thristy.\n",
      "Response:{\"keyword\":[\"water bottle\"],\"key instruction\":[\"find a water bottle\"]}\n",
      "\n",
      "3. Instruction: I'm at a crosswalk and I need to cross the street.\n",
      "Response:{\"keyword\":[\"traffic light button\"],\"key instruction\":[\"find the traffic light button\"]}\n",
      "\n",
      "4. Instruction: I need to open the door.\n",
      "Response:{\"keyword\":[\"door knob\"],\"key instruction\":[\"find the door knob\"]}\n",
      "\n",
      "5. Instruction: Where is my bunny toy? It is a pink bunny.\n",
      "Response:{\"keyword\":[\"pink bunny\"],\"key instruction\":[\"find the pink bunny\"]}\n",
      "\n",
      "6. Instruction: I need to get my jacket, I left it on the chair last night\n",
      "Response:{\"keyword\":[\"jacket\"],\"key instruction\":[\"fFind the jacket on the chair\"]}\n",
      "\n",
      "7. Instruction: I am tired, find me somewhere to rest.\n",
      "Response:{\"keyword\":[\"chair\"],\"key instruction\":[\"find an empty chair\"]}\n",
      "\n",
      "8. Instruction: I need to find some money, where's my wallet?\n",
      "Response:{\"keyword\":[\"wallet\"],\"key instruction\":[\"find the wallet\"]}\n",
      "\n",
      "\n",
      "\n"
     ]
    }
   ],
   "source": [
    "caller=GPTCaller()\n",
    "\n",
    "with open('./prompts/distillation/system_prompt', 'r') as file:\n",
    "    system_prompt = file.read()\n",
    "\n",
    "print(system_prompt)\n",
    "\n",
    "user_prompt=[\"where can i find love.\"]\n",
    "\n",
    "response=caller.create_prompt(user_prompt_list=user_prompt,system_prompt_list=system_prompt)\n",
    "\n"
   ]
  },
  {
   "cell_type": "code",
   "execution_count": 25,
   "metadata": {},
   "outputs": [
    {
     "data": {
      "text/plain": [
       "'{\"keyword\":[\"heart\"],\"key instruction\":[\"find a heart symbol\"]}'"
      ]
     },
     "execution_count": 25,
     "metadata": {},
     "output_type": "execute_result"
    }
   ],
   "source": [
    "caller.call()"
   ]
  }
 ],
 "metadata": {
  "kernelspec": {
   "display_name": "base",
   "language": "python",
   "name": "python3"
  },
  "language_info": {
   "codemirror_mode": {
    "name": "ipython",
    "version": 3
   },
   "file_extension": ".py",
   "mimetype": "text/x-python",
   "name": "python",
   "nbconvert_exporter": "python",
   "pygments_lexer": "ipython3",
   "version": "3.10.14"
  }
 },
 "nbformat": 4,
 "nbformat_minor": 2
}
