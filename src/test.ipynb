{
 "cells": [
  {
   "cell_type": "code",
   "execution_count": null,
   "metadata": {},
   "outputs": [],
   "source": [
    "import numpy as np\n",
    "import matplotlib.pyplot as plt\n",
    "\n",
    "# Replace 'path/to/your/array.npy' with the actual file path\n",
    "file_path = '/home/qihan/catkin_ws/src/guide_dog/src/tmp/depth/4.npy'\n",
    "\n",
    "# Load the array\n",
    "array = np.load(file_path)\n",
    "\n",
    "\n",
    "# Visualize the array\n",
    "plt.imshow(array, cmap='viridis')  # 'cmap' specifies the colormap\n",
    "plt.colorbar()  # Optionally add a colorbar to indicate the scale\n",
    "plt.show()\n"
   ]
  }
 ],
 "metadata": {
  "kernelspec": {
   "display_name": "owl",
   "language": "python",
   "name": "python3"
  },
  "language_info": {
   "codemirror_mode": {
    "name": "ipython",
    "version": 3
   },
   "file_extension": ".py",
   "mimetype": "text/x-python",
   "name": "python",
   "nbconvert_exporter": "python",
   "pygments_lexer": "ipython3",
   "version": "3.10.14"
  }
 },
 "nbformat": 4,
 "nbformat_minor": 2
}
