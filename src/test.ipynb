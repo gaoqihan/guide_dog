{
 "cells": [
  {
   "cell_type": "code",
   "execution_count": 17,
   "metadata": {},
   "outputs": [],
   "source": [
    "from openai import OpenAI\n",
    "import os\n",
    "from gpt_api import *"
   ]
  },
  {
   "cell_type": "code",
   "execution_count": 18,
   "metadata": {},
   "outputs": [],
   "source": [
    "class gpt_caller:\n",
    "    def __init__(self):\n",
    "        self.client = OpenAI()\n",
    "    \n",
    "    def encode_image(self,image):\n",
    "        if type(image) == str:\n",
    "            with open(image, \"rb\") as image_file:\n",
    "                return base64.b64encode(image_file.read()).decode('utf-8')\n",
    "        else:\n",
    "            temp_image_path = \"./temp.png\"\n",
    "            image.save(temp_image_path)\n",
    "            return self.encode_image(temp_image_path)\n",
    "\n",
    "    def create_prompt(self, user_prompt_list=[],system_prompt_list=[]):\n",
    "        messages = []\n",
    "        content=[]\n",
    "        for item in system_prompt_list:\n",
    "            content.append({\n",
    "                    \"type\": \"text\",\n",
    "                    \"text\": item\n",
    "                })\n",
    "            \n",
    "\n",
    "        messages.append({\n",
    "            \"role\": \"system\",\n",
    "            \"content\": content\n",
    "        })\n",
    "        \n",
    "        content=[]\n",
    "\n",
    "        for item in user_prompt_list:\n",
    "\n",
    "            if type(item) == str:\n",
    "                content.append({\n",
    "                    \"type\": \"text\",\n",
    "                    \"text\": item\n",
    "                })\n",
    "            \n",
    "            else:\n",
    "                base64_image=self.encode_image(item)\n",
    "\n",
    "                content.append({\n",
    "                    \"type\": \"image_url\",\n",
    "                    \"image_url\": {\n",
    "                        \"url\": f\"data:image/jpeg;base64,{base64_image}\",\n",
    "                        \"detail\": \"low\"\n",
    "\n",
    "                    }\n",
    "                })\n",
    "\n",
    "\n",
    "        messages.append({\n",
    "            \"role\": \"user\",\n",
    "            \"content\": content\n",
    "        })\n",
    "        self.messages=messages\n",
    "\n",
    "    def call(self):\n",
    "\n",
    "        completion = self.client.chat.completions.create(\n",
    "        model=\"gpt-4o\",\n",
    "        messages=self.messages,temperature=0\n",
    "        )\n",
    "\n",
    "        print(completion.choices[0].message)\n",
    "\n",
    "        return completion.choices[0].message.content"
   ]
  },
  {
   "cell_type": "code",
   "execution_count": null,
   "metadata": {},
   "outputs": [],
   "source": []
  }
 ],
 "metadata": {
  "kernelspec": {
   "display_name": "owl",
   "language": "python",
   "name": "python3"
  },
  "language_info": {
   "codemirror_mode": {
    "name": "ipython",
    "version": 3
   },
   "file_extension": ".py",
   "mimetype": "text/x-python",
   "name": "python",
   "nbconvert_exporter": "python",
   "pygments_lexer": "ipython3",
   "version": "3.8.10"
  }
 },
 "nbformat": 4,
 "nbformat_minor": 2
}
