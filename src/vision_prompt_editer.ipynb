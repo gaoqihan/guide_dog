{
 "cells": [
  {
   "cell_type": "code",
   "execution_count": 14,
   "metadata": {},
   "outputs": [],
   "source": [
    "import base64\n"
   ]
  },
  {
   "cell_type": "code",
   "execution_count": 15,
   "metadata": {},
   "outputs": [],
   "source": [
    "def encode_image(image):\n",
    "        if type(image) == str:\n",
    "            with open(image, \"rb\") as image_file:\n",
    "                return base64.b64encode(image_file.read()).decode('utf-8')\n",
    "        else:\n",
    "            temp_image_path = \"./temp.png\"\n",
    "            image.save(temp_image_path)\n",
    "            return encode_image(temp_image_path)"
   ]
  },
  {
   "cell_type": "code",
   "execution_count": 9,
   "metadata": {},
   "outputs": [],
   "source": [
    "\n",
    "input_file = \"./prompts/command/system_prompt\"\n",
    "output_file = \"./prompts/command/image_path\"\n",
    "\n",
    "with open(input_file, \"r\") as file:\n",
    "    lines = file.readlines()\n",
    "\n",
    "extracted_lines = []\n",
    "for line in lines:\n",
    "    start_index = line.find(\"[\")\n",
    "    end_index = line.find(\"]\")\n",
    "    if start_index != -1 and end_index != -1:\n",
    "        extracted_lines.append(line[start_index+1:end_index])\n",
    "\n",
    "with open(output_file, \"a\") as file:\n",
    "    for line in extracted_lines:\n",
    "        file.write(line + \": \\n\")"
   ]
  },
  {
   "cell_type": "code",
   "execution_count": 27,
   "metadata": {},
   "outputs": [],
   "source": [
    "def process_file_content(file_path, mapping_file_path):\n",
    "    # Step 1: Read and process the first file\n",
    "    with open(file_path, 'r') as file:\n",
    "        content = file.read()\n",
    "\n",
    "    result = []\n",
    "    temp_str = \"\"\n",
    "    inside_brackets = False\n",
    "\n",
    "    for char in content:\n",
    "        if char == \"[\":\n",
    "            if temp_str:\n",
    "                result.append(temp_str)\n",
    "                temp_str = \"\"\n",
    "            temp_str += char\n",
    "            inside_brackets = True\n",
    "        elif char == \"]\" and inside_brackets:\n",
    "            temp_str += char\n",
    "            result.append(temp_str)\n",
    "            temp_str = \"\"\n",
    "            inside_brackets = False\n",
    "        else:\n",
    "            temp_str += char\n",
    "\n",
    "    if temp_str:\n",
    "        result.append(temp_str)\n",
    "        \n",
    "\n",
    "    # Step 2: Read the mapping file and create a dictionary\n",
    "    mapping = {}\n",
    "    with open(mapping_file_path, 'r') as file:\n",
    "        for line in file:\n",
    "            key, path = line.strip().split(\": \")\n",
    "            mapping[key] = path\n",
    "    \n",
    "\n",
    "    # Step 3: Replace elements in the list\n",
    "    for i, element in enumerate(result):\n",
    "        if element.startswith(\"[\") and element.endswith(\"]\"):\n",
    "            \n",
    "            key = element.strip(\"[]\")\n",
    "            if key in mapping:\n",
    "                result[i] = encode_image(mapping[key])\n",
    "    return result\n",
    "\n",
    "# Example usage\n",
    "file_path = input_file\n",
    "mapping_file_path = output_file\n",
    "output_list = process_file_content(file_path, mapping_file_path)\n"
   ]
  }
 ],
 "metadata": {
  "kernelspec": {
   "display_name": "Python 3",
   "language": "python",
   "name": "python3"
  },
  "language_info": {
   "codemirror_mode": {
    "name": "ipython",
    "version": 3
   },
   "file_extension": ".py",
   "mimetype": "text/x-python",
   "name": "python",
   "nbconvert_exporter": "python",
   "pygments_lexer": "ipython3",
   "version": "3.8.10"
  }
 },
 "nbformat": 4,
 "nbformat_minor": 2
}
